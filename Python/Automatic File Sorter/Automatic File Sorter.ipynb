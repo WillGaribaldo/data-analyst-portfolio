{
 "cells": [
  {
   "cell_type": "code",
   "execution_count": 12,
   "id": "aaaaad04-4c53-492d-b69a-4a276341ea66",
   "metadata": {},
   "outputs": [],
   "source": [
    "import os\n",
    "import shutil\n",
    "\n",
    "# Define the base path where the files are located\n",
    "path = r'C:\\Users\\Will\\OneDrive\\Desktop\\Projects\\Fake files\\\\'\n",
    "\n",
    "# List of folder names to be created for different file types\n",
    "folder_names = ['CSV Files', 'Text Files', 'Image Files']\n",
    "\n",
    "# Create the folders if they do not already exist\n",
    "for folder in folder_names:\n",
    "    folder_path = os.path.join(path, folder)\n",
    "    if not os.path.exists(folder_path):\n",
    "        os.makedirs(folder_path)\n",
    "\n",
    "# Get a list of all files in the base path\n",
    "file_names = os.listdir(path)\n",
    "\n",
    "# Move files to their respective folders based on their extensions\n",
    "for file in file_names:\n",
    "    # Check if the file is a CSV file and move it to the 'CSV Files' folder if not already present\n",
    "    if file.endswith('.csv') and not os.path.exists(os.path.join(path, 'CSV Files', file)):\n",
    "        shutil.move(os.path.join(path, file), os.path.join(path, 'CSV Files', file))\n",
    "    # Check if the file is a PNG image and move it to the 'Image Files' folder if not already present\n",
    "    elif file.endswith('.png') and not os.path.exists(os.path.join(path, 'Image Files', file)):\n",
    "        shutil.move(os.path.join(path, file), os.path.join(path, 'Image Files', file))\n",
    "    # Check if the file is a TXT file and move it to the 'Text Files' folder if not already present\n",
    "    elif file.endswith('.txt') and not os.path.exists(os.path.join(path, 'Text Files', file)):\n",
    "        shutil.move(os.path.join(path, file), os.path.join(path, 'Text Files', file))\n"
   ]
  }
 ],
 "metadata": {
  "kernelspec": {
   "display_name": "Python 3 (ipykernel)",
   "language": "python",
   "name": "python3"
  },
  "language_info": {
   "codemirror_mode": {
    "name": "ipython",
    "version": 3
   },
   "file_extension": ".py",
   "mimetype": "text/x-python",
   "name": "python",
   "nbconvert_exporter": "python",
   "pygments_lexer": "ipython3",
   "version": "3.11.7"
  }
 },
 "nbformat": 4,
 "nbformat_minor": 5
}
