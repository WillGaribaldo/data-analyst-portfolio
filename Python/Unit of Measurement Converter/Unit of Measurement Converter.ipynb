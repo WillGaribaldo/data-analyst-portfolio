{
 "cells": [
  {
   "cell_type": "code",
   "execution_count": 2,
   "id": "3064efb7-5b46-4731-abfd-016ce15fc8d4",
   "metadata": {},
   "outputs": [
    {
     "name": "stdin",
     "output_type": "stream",
     "text": [
      "Enter starting unit of measurement(inches, feet, yards):  in\n",
      "Enter unit of measurement to convert to (inches, feet, yards):  yd\n"
     ]
    }
   ],
   "source": [
    "# **Get user input for starting and desired units**\n",
    "convert_from = input('Enter starting unit of measurement(inches, feet, yards): ')\n",
    "convert_to = input('Enter unit of measurement to convert to (inches, feet, yards): ')"
   ]
  },
  {
   "cell_type": "code",
   "execution_count": 3,
   "id": "91a6ba4c-af30-4211-baaa-c6eade2484f4",
   "metadata": {},
   "outputs": [
    {
     "name": "stdin",
     "output_type": "stream",
     "text": [
      "Enter number of inches: 5\n"
     ]
    },
    {
     "name": "stdout",
     "output_type": "stream",
     "text": [
      "Result: 5 Inches = 0.14 Yards\n"
     ]
    }
   ],
   "source": [
    "# **Input validation - ensure correct units are entered**\n",
    "if convert_from.lower() in [\"inches\", \"in\", \"inch\"]:\n",
    "    # **Get numerical input for inches**\n",
    "    number_of_inches = int(input('Enter number of inches:'))\n",
    "\n",
    "    # **Conversion logic**\n",
    "    if convert_to.lower() in [\"feet\", \"ft\", 'foot']:\n",
    "        print(\"Result: \" + str(number_of_inches) + \" Inches = \" + str(round(number_of_inches/ 12,2)) + \" Feet\")\n",
    "    elif convert_to.lower() in [\"yards\", \"yd\", \"yds\", \"yard\"]:\n",
    "        print(\"Result: \" + str(number_of_inches) + \" Inches = \" + str(round(number_of_inches/ 36,2)) + \" Yards\")\n",
    "    else:\n",
    "        print('Entered an invalid unit of measurement, please enter either Inches, Feet, or Yards')\n",
    "\n",
    "elif convert_from.lower() in [\"feet\", \"ft\", 'foot']:\n",
    "    # **Get numerical input for feet**\n",
    "    number_of_feet = int(input('Enter starting measurement in feet:'))\n",
    "\n",
    "    # **Conversion logic** \n",
    "    if convert_to.lower() in [\"inches\", \"in\", \"inch\"]:\n",
    "        print(\"Result: \" + str(number_of_feet) + \" Feet = \" + str(round(number_of_feet * 12)) + \" Inches\")\n",
    "    elif convert_to.lower() in [\"yards\", \"yd\", \"yds\", \"yard\"]:\n",
    "        print(\"Result: \" + str(number_of_feet) + \" Feet = \" + str(round(number_of_feet / 3,2)) + \" Yards\")\n",
    "    else:\n",
    "        print('Entered an invalid unit of measurement, please enter either Inches, Feet, or Yards')\n",
    "\n",
    "elif convert_from.lower() in [\"yards\", \"yd\", \"yds\", \"yard\"]:\n",
    "    # **Get numerical input for yards**\n",
    "    number_of_yards = int(input('Enter starting measurement in yards:'))\n",
    "\n",
    "    # **Conversion logic**\n",
    "    if convert_to.lower() in [\"inches\", \"in\", \"inch\"]:\n",
    "        print(\"Result: \" + str(number_of_yards) + \" Yards = \" + str(round(number_of_yards * 36)) + \" Inches\")\n",
    "    elif convert_to.lower() in [\"feet\", \"ft\", 'foot']:\n",
    "        print(\"Result: \" + str(number_of_yards) + \" Yards = \" + str(round(number_of_yards * 3)) + \" Feet\")\n",
    "    else:\n",
    "        print('Entered an invalid unit of measurement, please enter either Inches, Feet, or Yards')\n",
    "\n",
    "else:\n",
    "    print('Entered an invalid unit of measurement, please enter either Inches, Feet, or Yards')\n"
   ]
  },
  {
   "cell_type": "code",
   "execution_count": null,
   "id": "14610222-109d-4870-833f-ed3f3291b461",
   "metadata": {},
   "outputs": [],
   "source": []
  }
 ],
 "metadata": {
  "kernelspec": {
   "display_name": "Python 3 (ipykernel)",
   "language": "python",
   "name": "python3"
  },
  "language_info": {
   "codemirror_mode": {
    "name": "ipython",
    "version": 3
   },
   "file_extension": ".py",
   "mimetype": "text/x-python",
   "name": "python",
   "nbconvert_exporter": "python",
   "pygments_lexer": "ipython3",
   "version": "3.11.7"
  }
 },
 "nbformat": 4,
 "nbformat_minor": 5
}
