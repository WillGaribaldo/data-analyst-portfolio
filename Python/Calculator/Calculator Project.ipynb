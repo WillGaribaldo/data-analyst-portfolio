{
 "cells": [
  {
   "cell_type": "code",
   "execution_count": 7,
   "id": "1ef24d3e-d474-49df-ac18-d3b0541f21f4",
   "metadata": {},
   "outputs": [
    {
     "name": "stdout",
     "output_type": "stream",
     "text": [
      "Enter 'A' for Addition\n",
      "Enter 'S' for Subtraction\n",
      "Enter 'M' for Multiplication\n",
      "Enter 'D' for Subtraction\n"
     ]
    },
    {
     "name": "stdin",
     "output_type": "stream",
     "text": [
      "Enter Choice (A,S,M,D):  a\n",
      "Enter first number:  5\n",
      "Enter second number:  3\n"
     ]
    },
    {
     "name": "stdout",
     "output_type": "stream",
     "text": [
      "Result: 5.0 + 3.0 = 8.0\n"
     ]
    },
    {
     "name": "stdin",
     "output_type": "stream",
     "text": [
      "Want to do another calculation? (yes/no?): n\n"
     ]
    }
   ],
   "source": [
    "# Function to add two numbers\n",
    "def add(x, y):\n",
    "    return x + y\n",
    "\n",
    "# Function to subtract second number from first\n",
    "def subtract(x, y):\n",
    "    return x - y\n",
    "\n",
    "# Function to multiply two numbers\n",
    "def multiply(x, y):\n",
    "    return x * y\n",
    "\n",
    "# Function to divide first number by second\n",
    "def divide(x, y):\n",
    "    return x / y\n",
    "\n",
    "# Display options for the user\n",
    "print(\"Enter 'A' for Addition\")\n",
    "print(\"Enter 'S' for Subtraction\")\n",
    "print(\"Enter 'M' for Multiplication\")\n",
    "print(\"Enter 'D' for Division\")\n",
    "\n",
    "# Infinite loop for continuous calculation until user decides to stop\n",
    "while True:\n",
    "    # Taking input from the user for the operation choice\n",
    "    choice = input('Enter Choice (A, S, M, D): ')\n",
    "\n",
    "    # Check if the choice is valid\n",
    "    if choice.upper() in ('A', 'ADD', 'ADDITION', 'S', 'SUBTRACT', 'SUBTRACTION', 'M', 'MULTIPLY', 'MULTIPLICATION', 'D', 'DIVIDE', 'DIVISION'):\n",
    "        # Taking inputs for the numbers to operate on\n",
    "        num1 = float(input('Enter first number: '))\n",
    "        num2 = float(input('Enter second number: '))\n",
    "    \n",
    "        # Perform addition if choice is addition\n",
    "        if choice.upper() in ('A', 'ADD', 'ADDITION'):\n",
    "            print('Result:', num1, '+', num2, '=', add(num1, num2))\n",
    "    \n",
    "        # Perform subtraction if choice is subtraction\n",
    "        elif choice.upper() in ('S', 'SUBTRACT', 'SUBTRACTION'):\n",
    "            print('Result:', num1, '-', num2, '=', subtract(num1, num2))\n",
    "    \n",
    "        # Perform multiplication if choice is multiplication\n",
    "        elif choice.upper() in ('M', 'MULTIPLY', 'MULTIPLICATION'):\n",
    "            print('Result:', num1, '*', num2, '=', multiply(num1, num2))\n",
    "    \n",
    "        # Perform division if choice is division\n",
    "        elif choice.upper() in ('D', 'DIVIDE', 'DIVISION'):\n",
    "            print('Result:', num1, '/', num2, '=', divide(num1, num2))\n",
    "    else:\n",
    "        # Print error message for invalid choice\n",
    "        print('Please input a correct choice.')\n",
    "\n",
    "    # Ask user if they want to perform another calculation\n",
    "    next_calculation = input(\"Want to do another calculation? (yes/no?):\")\n",
    "    # Exit loop if user says no\n",
    "    if next_calculation.lower() in ('no', 'n', 'Nope'):\n",
    "        break"
   ]
  },
  {
   "cell_type": "markdown",
   "id": "302a1622-34c6-4e5f-b1ce-1b46aaa783d9",
   "metadata": {},
   "source": []
  },
  {
   "cell_type": "code",
   "execution_count": null,
   "id": "ddf58e37-e150-4391-9560-2b1ea965ee76",
   "metadata": {},
   "outputs": [],
   "source": []
  }
 ],
 "metadata": {
  "kernelspec": {
   "display_name": "Python 3 (ipykernel)",
   "language": "python",
   "name": "python3"
  },
  "language_info": {
   "codemirror_mode": {
    "name": "ipython",
    "version": 3
   },
   "file_extension": ".py",
   "mimetype": "text/x-python",
   "name": "python",
   "nbconvert_exporter": "python",
   "pygments_lexer": "ipython3",
   "version": "3.11.7"
  }
 },
 "nbformat": 4,
 "nbformat_minor": 5
}
